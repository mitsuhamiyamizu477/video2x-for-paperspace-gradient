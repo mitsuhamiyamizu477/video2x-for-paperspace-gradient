{
 "cells": [
  {
   "cell_type": "markdown",
   "id": "28da562b",
   "metadata": {},
   "source": [
    "# Video2X Gradient Notebook"
   ]
  },
  {
   "cell_type": "markdown",
   "id": "32d3665a",
   "metadata": {},
   "source": [
    "## Step 1: Install Video2X\n",
    "\n",
    "Install Video2X. If you have already \"video2x-for-paperspace-gradient\" folder on your files, you may skip and proceed to Step 2."
   ]
  },
  {
   "cell_type": "code",
   "execution_count": null,
   "id": "e0c56fe8",
   "metadata": {},
   "outputs": [],
   "source": [
    "%cd /notebooks/\n",
    "!git clone https://github.com/nagasechan97/video2x-for-paperspace-gradient.git"
   ]
  },
  {
   "cell_type": "markdown",
   "id": "400539dc",
   "metadata": {},
   "source": [
    "## Step 2: Install Dependencies\n",
    "\n",
    "This code will install all dependencies needed by Video2X."
   ]
  },
  {
   "cell_type": "code",
   "execution_count": null,
   "id": "481c81c5",
   "metadata": {},
   "outputs": [],
   "source": [
    "%cd video2x-for-paperspace-gradient\n",
    "!chmod +x install.sh\n",
    "!./install.sh\n",
    "&cd /notebooks/\n",
    "!chmod +x /notebooks/video2x-for-paperspace-gradient/\n",
    "!chmod +x /notebooks/video2x-for-paperspace-gradient/src/dependencies/waifu2x-converter-cpp/build/waifu2x-converter-cpp"
   ]
  },
  {
   "cell_type": "markdown",
   "id": "1979b5b2",
   "metadata": {},
   "source": [
    "## Step 3: Configure Driver Settings (Optional)\n",
    "\n",
    "Open the folder video2x-for-paperspace-gradient/src. Find and double click to open \"video2x.yaml\". Edit the file to change driver settings or just keep the default settings.\n"
   ]
  },
  {
   "cell_type": "markdown",
   "id": "7d358935",
   "metadata": {},
   "source": [
    "## Step 4: Start Upscaling Your Video\n",
    "You can start Video2X now. This example command will upscale \"test.mp4\" from your 5GB free persistent storage to height 720 and weight 1280 and the output video will be saved as \"test_out.mp4\". "
   ]
  },
  {
   "cell_type": "code",
   "execution_count": null,
   "id": "f61cdbc0",
   "metadata": {},
   "outputs": [],
   "source": [
    "!python /notebooks/video2x-for-paperspace-gradient/src/video2x.py -i test.mp4 -o test_out.mp4 -w 1280 -h 720 -d waifu2x_converter_cpp"
   ]
  }
 ],
 "metadata": {
  "kernelspec": {
   "display_name": "Python 3 (ipykernel)",
   "language": "python",
   "name": "python3"
  },
  "language_info": {
   "codemirror_mode": {
    "name": "ipython",
    "version": 3
   },
   "file_extension": ".py",
   "mimetype": "text/x-python",
   "name": "python",
   "nbconvert_exporter": "python",
   "pygments_lexer": "ipython3",
   "version": "3.8.12"
  }
 },
 "nbformat": 4,
 "nbformat_minor": 5
}
